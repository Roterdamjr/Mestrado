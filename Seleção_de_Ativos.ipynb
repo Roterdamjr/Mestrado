{
  "nbformat": 4,
  "nbformat_minor": 0,
  "metadata": {
    "colab": {
      "provenance": [],
      "collapsed_sections": [
        "lLT5-3npc4yK",
        "Duy5GBv9dAyR"
      ],
      "authorship_tag": "ABX9TyNVpeN24WgtSxcAEpxi07ss",
      "include_colab_link": true
    },
    "kernelspec": {
      "name": "python3",
      "display_name": "Python 3"
    },
    "language_info": {
      "name": "python"
    }
  },
  "cells": [
    {
      "cell_type": "markdown",
      "metadata": {
        "id": "view-in-github",
        "colab_type": "text"
      },
      "source": [
        "<a href=\"https://colab.research.google.com/github/Roterdamjr/Mestrado/blob/main/Sele%C3%A7%C3%A3o_de_Ativos.ipynb\" target=\"_parent\"><img src=\"https://colab.research.google.com/assets/colab-badge.svg\" alt=\"Open In Colab\"/></a>"
      ]
    },
    {
      "cell_type": "markdown",
      "source": [
        "# Biblioteca"
      ],
      "metadata": {
        "id": "lLT5-3npc4yK"
      }
    },
    {
      "cell_type": "code",
      "source": [
        "!pip install selenium webdriver-manager\n",
        "!apt-get update\n",
        "!apt-get install -y chromium-browser chromium-chromedriver"
      ],
      "metadata": {
        "id": "q1QD49ieuP4B"
      },
      "execution_count": null,
      "outputs": []
    },
    {
      "cell_type": "code",
      "source": [
        "import requests\n",
        "from bs4 import BeautifulSoup\n",
        "import pandas as pd\n",
        "import numpy as np\n",
        "import matplotlib.pyplot as plt\n",
        "import seaborn as sns\n",
        "\n",
        "def fn_formata_dados(df,colunas_prct):\n",
        "  # 1️⃣ Colunas numéricas comuns (não porcentagem)\n",
        "  for col in df.columns:\n",
        "      if col not in colunas_prct:\n",
        "          df[col] = (\n",
        "              df[col]\n",
        "              .astype(str)\n",
        "              .str.replace(\",\", \".\", regex=False)  # vírgula → ponto\n",
        "              .str.strip()                          # remove espaços extras\n",
        "          )\n",
        "          df[col] = pd.to_numeric(df[col], errors='coerce')\n",
        "\n",
        "  # 2️⃣ Colunas de porcentagem\n",
        "  for col in colunas_prct:\n",
        "      if col in df.columns:\n",
        "          df[col] = (\n",
        "              df[col]\n",
        "              .astype(str)\n",
        "              .str.replace(\"%\", \"\", regex=False)  # remove %\n",
        "              .str.replace(\",\", \".\", regex=False) # vírgula → ponto\n",
        "              .str.strip()\n",
        "          )\n",
        "          df[col] = pd.to_numeric(df[col], errors='coerce') / 100\n",
        "\n",
        "\n",
        "def fn_le_indicadores_web(ativo):\n",
        "\n",
        "  url ='https://investidor10.com.br/acoes/' + ativo\n",
        "  headers = {\"User-Agent\": \"Mozilla/5.0\"}\n",
        "\n",
        "  response = requests.get(url, headers=headers)\n",
        "  soup = BeautifulSoup(response.text, \"html.parser\")\n",
        "\n",
        "  indicadores =  {\"Ativo\": ativo}\n",
        "\n",
        "  # Cada indicador está dentro de uma div com class \"cell\"\n",
        "  for cell in soup.find_all(\"div\", class_=\"cell\"):\n",
        "      nome_tag = cell.find(\"span\")  # nome do indicador (ROE, P/L, etc.)\n",
        "      valor_tag = cell.find(\"div\", class_=\"value\")\n",
        "\n",
        "      if nome_tag and valor_tag:\n",
        "          nome = nome_tag.get_text(strip=True).split(\" \")[0]\n",
        "          valor = valor_tag.find(\"span\").get_text(strip=True)\n",
        "          indicadores[nome] = valor\n",
        "  # retorna dicionário com os indicadores\n",
        "  return indicadores\n",
        "\n",
        "def fn_altamente_correlacionados(p_matriz, p_cutoff):\n",
        "  altamente_correlacionados = set()\n",
        "\n",
        "  corr_matrix_abs = p_matriz.abs()\n",
        "  corr_matrix_upper_abs = p_matriz.where(np.triu(np.ones(p_matriz.shape), k=1).astype(bool))\n",
        "\n",
        "  while True:\n",
        "      # Find the highest correlation exceeding the cutoff\n",
        "      max_corr = corr_matrix_upper_abs.max().max()\n",
        "      if max_corr < p_cutoff:\n",
        "          break # No more correlations above cutoff\n",
        "\n",
        "      # Find the pair with this highest correlation\n",
        "      row_idx, col_idx = np.where(corr_matrix_upper_abs == max_corr)\n",
        "      # Get the actual column names (handle potential multiple pairs with same max corr)\n",
        "      col1 = corr_matrix_upper_abs.index[row_idx[0]]\n",
        "      col2 = corr_matrix_upper_abs.columns[col_idx[0]]\n",
        "\n",
        "      # Calculate mean absolute correlation for each column in the pair\n",
        "      mean_abs_corr1 = corr_matrix_abs[col1].mean()\n",
        "      mean_abs_corr2 = corr_matrix_abs[col2].mean()\n",
        "\n",
        "      # Add the column with the higher mean absolute correlation to the set to remove\n",
        "      if mean_abs_corr1 > mean_abs_corr2:\n",
        "          col_to_remove = col1\n",
        "      else:\n",
        "          col_to_remove = col2 # If equal, remove the second one\n",
        "\n",
        "      altamente_correlacionados.add(col_to_remove)\n",
        "\n",
        "      # Remove the flagged column from consideration by setting its correlations to 0\n",
        "      corr_matrix_upper_abs.loc[col_to_remove, :] = 0\n",
        "      corr_matrix_upper_abs.loc[:, col_to_remove] = 0\n",
        "\n",
        "  return altamente_correlacionados\n",
        "\n",
        "def fn_comparar_histogramas(p_old, p_new):\n",
        "  # exibem 2 histograma, uma antes e outro após a limpeza\n",
        "  fig, axes = plt.subplots(1, 2, figsize=(12, 5))\n",
        "  p_old.hist(ax=axes[0])\n",
        "  p_new.hist(ax=axes[1])\n",
        "  plt.show()\n",
        "  print(p_old[~p_old.index.isin(filtro.index)])\n",
        "\n",
        "def tratar_outliers_IQR(series, fator=1.5):\n",
        "    Q1 = series.quantile(0.25)\n",
        "    Q3 = series.quantile(0.75)\n",
        "    IQR = Q3 - Q1\n",
        "\n",
        "    limite_inferior = Q1 - fator * IQR\n",
        "    limite_superior = Q3 + fator * IQR\n",
        "\n",
        "    # Winsorização\n",
        "    serie_tratada = series.clip(limite_inferior, limite_superior)\n",
        "    return serie_tratada"
      ],
      "metadata": {
        "id": "zaHd5kFK1e_h"
      },
      "execution_count": 3,
      "outputs": []
    },
    {
      "cell_type": "markdown",
      "source": [
        "# Download de Indicadores"
      ],
      "metadata": {
        "id": "Duy5GBv9dAyR"
      }
    },
    {
      "cell_type": "markdown",
      "source": [
        "Serão utilizados somente os ativos que compões o IBOVESPA de modo a garantir liquidez. Fonte: https://www.b3.com.br/pt_br/market-data-e-indices/indices/indices-amplos/indice-ibovespa-ibovespa-composicao-da-carteira.htm\n",
        "\n",
        "Serão filtrados ativos descorrelacionados\n",
        "\n",
        "Serão utilizados dados fundamentalista para filtragem: Maiores lucros, ROE ou margens financeirassua liquidez"
      ],
      "metadata": {
        "id": "HZG7RtLP1GIj"
      }
    },
    {
      "cell_type": "code",
      "source": [
        "\n",
        "ativos_ibov = [\"ALOS3\", \"ABEV3\", \"ASAI3\", \"AURE3\", \"AZZA3\", \"B3SA3\", \"BBSE3\", \"BBDC3\",\n",
        "    \"BBDC4\", \"BRAP4\", \"BBAS3\", \"BRKM5\", \"BRAV3\", \"BRFS3\", \"BPAC11\", \"CXSE3\",\n",
        "    \"CMIG4\", \"COGN3\", \"CPLE6\", \"CSAN3\", \"CPFE3\", \"CMIN3\", \"CVCB3\", \"CYRE3\",\n",
        "    \"DIRR3\", \"ELET3\", \"ELET6\", \"EMBR3\", \"ENGI11\", \"ENEV3\", \"EGIE3\", \"EQTL3\",\n",
        "    \"FLRY3\", \"GGBR4\", \"GOAU4\", \"HAPV3\", \"HYPE3\", \"IGTI11\", \"IRBR3\", \"ISAE4\",\n",
        "    \"ITSA4\", \"ITUB4\", \"KLBN11\", \"RENT3\", \"LREN3\", \"MGLU3\", \"POMO4\", \"MRFG3\",\n",
        "    \"BEEF3\",  \"MRVE3\", \"MULT3\", \"NTCO3\", \"PCAR3\", \"PETR3\", \"PETR4\",\n",
        "    \"RECV3\", \"PRIO3\", \"PETZ3\", \"PSSA3\", \"RADL3\", \"RAIZ4\", \"RDOR3\", \"RAIL3\",\n",
        "    \"SBSP3\", \"SANB11\", \"STBP3\", \"SMTO3\", \"CSNA3\", \"SLCE3\", \"SMFT3\", \"SUZB3\",\n",
        "    \"TAEE11\", \"VIVT3\", \"TIMS3\", \"TOTS3\", \"UGPA3\", \"USIM5\", \"VALE3\", \"VAMO3\",\n",
        "    \"VBBR3\", \"VIVA3\", \"WEGE3\", \"YDUQ3\"]\n",
        "\n",
        "linhas = [fn_le_indicadores_web(ativo) for ativo in ativos_ibov]\n",
        "\n",
        "df_ind_fund = pd.DataFrame(linhas)\n",
        "df_ind_fund.to_csv('indi_fundaamentalistas.csv', index=False)"
      ],
      "metadata": {
        "id": "wOav8sGoglDd"
      },
      "execution_count": null,
      "outputs": []
    },
    {
      "cell_type": "markdown",
      "source": [
        "# Filtragem de indicadores"
      ],
      "metadata": {
        "id": "LschTmdYdO-G"
      }
    },
    {
      "cell_type": "code",
      "source": [
        "df_ind_fund_raw = pd.read_csv('indi_fundaamentalistas.csv')\n",
        "df_ind_fund_raw.set_index('Ativo' , inplace=True)\n",
        "fn_formata_dados(df_ind_fund_raw, ['DIVIDEND','PAYOUT', 'MARGEM', 'ROE','ROIC','ROA', 'CAGR'])"
      ],
      "metadata": {
        "id": "FZKUbll4ygRw"
      },
      "execution_count": 4,
      "outputs": []
    },
    {
      "cell_type": "markdown",
      "source": [
        "indicadores extraídos: 'P/L', 'P/RECEITA', 'P/VP', 'DIVIDEND', 'PAYOUT', 'MARGEM', 'EV/EBITDA',\n",
        "       'EV/EBIT', 'P/EBITDA', 'P/EBIT', 'P/ATIVO', 'P/CAP.GIRO', 'VPA', 'LPA',\n",
        "       'GIRO', 'ROE', 'ROIC', 'ROA', 'DÍVIDA', 'PATRIMÔNIO', 'PASSIVOS',\n",
        "       'LIQUIDEZ', 'CAGR'"
      ],
      "metadata": {
        "id": "YwlamrNgFFXY"
      }
    },
    {
      "cell_type": "markdown",
      "source": [
        "A cada par de indicadores  que possuem correlação maior que 0.8 é excluído aqule  que tem maior correlação com os demais indicadores.\n",
        "\n",
        "São eles: 'P/EBITDA', 'P/RECEITA', 'PATRIMÔNIO'"
      ],
      "metadata": {
        "id": "xIHeQL-VxxaO"
      }
    },
    {
      "cell_type": "code",
      "source": [
        "mat_corr_raw = df_ind_fund_raw.corr()\n",
        "'''\n",
        "plt.figure(figsize=(12,10))\n",
        "sns.heatmap(mat_corr_raw, annot=True, fmt=\".2f\", cmap=\"coolwarm\")\n",
        "plt.show()\n",
        "'''\n",
        "df_ind_fund = df_ind_fund_raw.drop(columns = fn_altamente_correlacionados(mat_corr_raw, 0.8))\n",
        "'''\n",
        "mat_corr = df_ind_fund.corr()\n",
        "plt.figure(figsize=(12,10))\n",
        "sns.heatmap(mat_corr, annot=True, fmt=\".2f\", cmap=\"coolwarm\")\n",
        "plt.show()\n",
        "'''"
      ],
      "metadata": {
        "colab": {
          "base_uri": "https://localhost:8080/",
          "height": 36
        },
        "id": "xut5cpwA0oJA",
        "outputId": "5222f128-50fd-44d4-9f13-b90c1798ed7e"
      },
      "execution_count": 5,
      "outputs": [
        {
          "output_type": "execute_result",
          "data": {
            "text/plain": [
              "'\\nmat_corr = df_ind_fund.corr()\\nplt.figure(figsize=(12,10))\\nsns.heatmap(mat_corr, annot=True, fmt=\".2f\", cmap=\"coolwarm\")\\nplt.show()\\n'"
            ],
            "application/vnd.google.colaboratory.intrinsic+json": {
              "type": "string"
            }
          },
          "metadata": {},
          "execution_count": 5
        }
      ]
    },
    {
      "cell_type": "markdown",
      "source": [
        "Analisar:\n",
        "\n",
        " 'P/L', 'P/VP', 'DIVIDEND', 'PAYOUT', 'MARGEM', 'EV/EBITDA', 'EV/EBIT',\n",
        "       'P/EBIT', 'P/ATIVO', 'P/CAP.GIRO', 'VPA', 'LPA', 'GIRO', 'ROE', 'ROIC',\n",
        "       'ROA', 'DÍVIDA', 'PATRIMÔNIO', 'PASSIVOS', 'LIQUIDEZ', 'CAGR'\n",
        "\n",
        "Não foi considerado :DIVIDEND,PAYOUT  "
      ],
      "metadata": {
        "id": "xVgB84hGFFxm"
      }
    },
    {
      "cell_type": "code",
      "source": [
        "pl = df_ind_fund['P/L']\n",
        "p_vp = df_ind_fund['P/VP']\n",
        "dividendo = df_ind_fund['DIVIDEND']\n",
        "payout = df_ind_fund['PAYOUT']\n",
        "margem_ebdita = df_ind_fund['MARGEM']\n",
        "ev_ebitda = df_ind_fund['EV/EBITDA']\n",
        "ev_ebit = df_ind_fund['EV/EBIT']\n",
        "p_ebit = df_ind_fund['P/EBIT']\n",
        "p_ativo_circ = df_ind_fund['P/ATIVO']\n",
        "p_cap_giro = df_ind_fund['P/CAP.GIRO']\n",
        "vpa = df_ind_fund['VPA']\n",
        "lpa = df_ind_fund['LPA']\n",
        "giro = df_ind_fund['GIRO']\n",
        "roe = df_ind_fund['ROE']\n",
        "roic = df_ind_fund['ROIC']\n",
        "roa = df_ind_fund['ROA']\n",
        "div_brt_patr = df_ind_fund['DÍVIDA']\n",
        "patrimonio = df_ind_fund['PATRIMÔNIO']\n",
        "passivo = df_ind_fund['PASSIVOS']\n",
        "liquidez = df_ind_fund['LIQUIDEZ']\n",
        "cagr = df_ind_fund['CAGR']"
      ],
      "metadata": {
        "id": "oiSi8wzod6vj"
      },
      "execution_count": null,
      "outputs": []
    },
    {
      "cell_type": "markdown",
      "source": [
        "è realizada uma limpeza bruta visual de modo a evitar manter aberrações grotescas que distorcem todo o histograma"
      ],
      "metadata": {
        "id": "IicGvHHwfK9D"
      }
    },
    {
      "cell_type": "markdown",
      "source": [
        "De forma aidentificar outliers poderia usar o Método do Z-score ou Método do Intervalo Interquartil (mais robusta para dados que não seguem uma distribuição norma).\n",
        "\n",
        "E para tratamento pode ser usado a simples remoção ou a Winsorization.\n",
        "\n",
        "Foi escolhido Método do Intervalo Interquartil com Winsorization, pois evita a exclusão de um ativo que pode ser importante por outros motivos."
      ],
      "metadata": {
        "id": "uXbDyyzBX1Qc"
      }
    },
    {
      "cell_type": "code",
      "source": [
        "indicador = df_ind_fund['P/L']\n",
        "filtro = indicador[indicador > -20]\n",
        "fn_comparar_histogramas(indicador, filtro)\n",
        "ind_tratado = tratar_outliers_IQR(indicador)\n",
        "ind_tratado.hist()"
      ],
      "metadata": {
        "id": "c8r4ZOsHi7tS"
      },
      "execution_count": null,
      "outputs": []
    },
    {
      "cell_type": "code",
      "source": [],
      "metadata": {
        "id": "3qLGWtnKjafW"
      },
      "execution_count": null,
      "outputs": []
    },
    {
      "cell_type": "code",
      "source": [
        "indicador = df_ind_fund['P/VP']\n",
        "filtro = indicador[indicador < 8]\n",
        "fn_comparar_histogramas(indicador, filtro)\n",
        "ind_tratado = tratar_outliers_IQR(indicador)\n",
        "ind_tratado.hist()"
      ],
      "metadata": {
        "id": "vPhrXHEzjaPi"
      },
      "execution_count": null,
      "outputs": []
    },
    {
      "cell_type": "code",
      "source": [
        "indicador = df_ind_fund['MARGEM']\n",
        "filtro = indicador[indicador < 1.5]\n",
        "fn_comparar_histogramas(indicador, filtro)"
      ],
      "metadata": {
        "id": "XYyKLY4xjkBw"
      },
      "execution_count": null,
      "outputs": []
    },
    {
      "cell_type": "code",
      "source": [
        "indicador = df_ind_fund['EV/EBITDA']\n",
        "filtro = indicador[indicador >-5]\n",
        "fn_comparar_histogramas(indicador, filtro)"
      ],
      "metadata": {
        "id": "-w0ZVVvhj2c4"
      },
      "execution_count": null,
      "outputs": []
    },
    {
      "cell_type": "code",
      "source": [
        "indicador =  df_ind_fund['EV/EBIT']\n",
        "filtro = indicador[(indicador > -10) & (indicador < 30)]\n",
        "fn_comparar_histogramas(indicador, filtro)"
      ],
      "metadata": {
        "id": "tzxgEJIzj9rh"
      },
      "execution_count": null,
      "outputs": []
    },
    {
      "cell_type": "code",
      "source": [
        "indicador = df_ind_fund['P/EBIT']\n",
        "filtro = indicador[(indicador > 0) & (indicador < 25) ]\n",
        "fn_comparar_histogramas(indicador, filtro)"
      ],
      "metadata": {
        "id": "aO3XpxoFkIbZ"
      },
      "execution_count": null,
      "outputs": []
    },
    {
      "cell_type": "code",
      "source": [
        "indicador = df_ind_fund['P/ATIVO'] # p/ativo circulante\n",
        "filtro = indicador[indicador > -5]\n",
        "fn_comparar_histogramas(indicador, filtro)"
      ],
      "metadata": {
        "id": "4YeL6NBLkQxv"
      },
      "execution_count": null,
      "outputs": []
    },
    {
      "cell_type": "code",
      "source": [
        "indicador = df_ind_fund['P/CAP.GIRO']\n",
        "filtro = indicador[indicador > -60]\n",
        "fn_comparar_histogramas(indicador, filtro)"
      ],
      "metadata": {
        "id": "AG2PxSwQkcPY"
      },
      "execution_count": null,
      "outputs": []
    },
    {
      "cell_type": "code",
      "source": [
        "indicador = df_ind_fund['VPA']\n",
        "filtro = indicador[indicador < 70 ]\n",
        "fn_comparar_histogramas(indicador, filtro)"
      ],
      "metadata": {
        "id": "GjBOMXlqklko"
      },
      "execution_count": null,
      "outputs": []
    },
    {
      "cell_type": "code",
      "source": [
        "indicador = lpa\n",
        "filtro = indicador[(indicador < 10) & (indicador > -5)]\n",
        "fn_comparar_histogramas(indicador, filtro)"
      ],
      "metadata": {
        "id": "FwhlYKFpw7zP",
        "colab": {
          "base_uri": "https://localhost:8080/",
          "height": 576
        },
        "outputId": "84def362-4a85-4809-b40b-4c541ffff27c"
      },
      "execution_count": null,
      "outputs": [
        {
          "output_type": "display_data",
          "data": {
            "text/plain": [
              "<Figure size 1200x500 with 2 Axes>"
            ],
            "image/png": "[encoded data removed]"
          },
          "metadata": {}
        },
        {
          "output_type": "stream",
          "name": "stdout",
          "text": [
            "Ativo\n",
            "BRKM5    -7.29\n",
            "CSAN3    -6.29\n",
            "NTCO3    -5.87\n",
            "PRIO3    11.81\n",
            "SBSP3    16.33\n",
            "Name: LPA, dtype: float64\n"
          ]
        }
      ]
    },
    {
      "cell_type": "code",
      "source": [
        "indicador = giro\n",
        "filtro = indicador[indicador < 2.5]\n",
        "fn_comparar_histogramas(indicador, filtro)"
      ],
      "metadata": {
        "id": "7LiKm_lcw7o6",
        "colab": {
          "base_uri": "https://localhost:8080/",
          "height": 518
        },
        "outputId": "51cf0256-1701-4629-e6a5-025a51a8b29c"
      },
      "execution_count": null,
      "outputs": [
        {
          "output_type": "display_data",
          "data": {
            "text/plain": [
              "<Figure size 1200x500 with 2 Axes>"
            ],
            "image/png": "[encoded data removed]"
          },
          "metadata": {}
        },
        {
          "output_type": "stream",
          "name": "stdout",
          "text": [
            "Ativo\n",
            "UGPA3    3.03\n",
            "VBBR3    3.03\n",
            "Name: GIRO, dtype: float64\n"
          ]
        }
      ]
    },
    {
      "cell_type": "code",
      "source": [
        "indicador = roe\n",
        "filtro = indicador[(indicador < 0.5) & (indicador > -1)]\n",
        "fn_comparar_histogramas(indicador, filtro)"
      ],
      "metadata": {
        "id": "aFmeFQaxw7ax",
        "colab": {
          "base_uri": "https://localhost:8080/",
          "height": 573
        },
        "outputId": "ba5d406b-46c9-4c4c-d907-c1456cbb50d9"
      },
      "execution_count": null,
      "outputs": [
        {
          "output_type": "display_data",
          "data": {
            "text/plain": [
              "<Figure size 1200x500 with 2 Axes>"
            ],
            "image/png": "[encoded data removed]"
          },
          "metadata": {}
        },
        {
          "output_type": "stream",
          "name": "stdout",
          "text": [
            "Ativo\n",
            "BBSE3    0.8497\n",
            "BRKM5   -1.5267\n",
            "CSAN3   -1.6324\n",
            "MRFG3    0.9986\n",
            "STBP3    1.0158\n",
            "Name: ROE, dtype: float64\n"
          ]
        }
      ]
    },
    {
      "cell_type": "code",
      "source": [
        "indicador = roic\n",
        "filtro = indicador[indicador < .4]\n",
        "fn_comparar_histogramas(indicador, filtro)"
      ],
      "metadata": {
        "id": "HE1l4zNMyfwN",
        "colab": {
          "base_uri": "https://localhost:8080/",
          "height": 503
        },
        "outputId": "ba773c10-b96f-4555-c63e-6a79d00fc9f1"
      },
      "execution_count": null,
      "outputs": [
        {
          "output_type": "display_data",
          "data": {
            "text/plain": [
              "<Figure size 1200x500 with 2 Axes>"
            ],
            "image/png": "[encoded data removed]"
          },
          "metadata": {}
        },
        {
          "output_type": "stream",
          "name": "stdout",
          "text": [
            "Ativo\n",
            "BBSE3    0.7721\n",
            "Name: ROIC, dtype: float64\n"
          ]
        }
      ]
    },
    {
      "cell_type": "code",
      "source": [
        "indicador = roa\n",
        "filtro = indicador[(indicador > -.2)]\n",
        "fn_comparar_histogramas(indicador, filtro)"
      ],
      "metadata": {
        "id": "t4d_zKpQyuge",
        "colab": {
          "base_uri": "https://localhost:8080/",
          "height": 500
        },
        "outputId": "52ea045d-ccf9-4947-c8ba-25520f21c547"
      },
      "execution_count": null,
      "outputs": [
        {
          "output_type": "display_data",
          "data": {
            "text/plain": [
              "<Figure size 1200x500 with 2 Axes>"
            ],
            "image/png": "[encoded data removed]"
          },
          "metadata": {}
        },
        {
          "output_type": "stream",
          "name": "stdout",
          "text": [
            "Ativo\n",
            "NTCO3   -0.3443\n",
            "Name: ROA, dtype: float64\n"
          ]
        }
      ]
    },
    {
      "cell_type": "code",
      "source": [
        "indicador = div_brt_patr\n",
        "filtro = indicador[(indicador < 15) & (indicador > -5)]\n",
        "fn_comparar_histogramas(indicador, filtro)"
      ],
      "metadata": {
        "id": "kAh9XYqWywYi",
        "colab": {
          "base_uri": "https://localhost:8080/",
          "height": 646
        },
        "outputId": "8bd553de-429b-467e-b3f4-0e2a701eebdb"
      },
      "execution_count": null,
      "outputs": [
        {
          "output_type": "display_data",
          "data": {
            "text/plain": [
              "<Figure size 1200x500 with 2 Axes>"
            ],
            "image/png": "[encoded data removed]"
          },
          "metadata": {}
        },
        {
          "output_type": "stream",
          "name": "stdout",
          "text": [
            "Ativo\n",
            "BBDC3       NaN\n",
            "BBDC4       NaN\n",
            "BBAS3       NaN\n",
            "BRKM5    -12.24\n",
            "BPAC11      NaN\n",
            "ITUB4       NaN\n",
            "MRFG3     23.30\n",
            "BEEF3     18.71\n",
            "SANB11      NaN\n",
            "Name: DÍVIDA, dtype: float64\n"
          ]
        }
      ]
    },
    {
      "cell_type": "markdown",
      "source": [
        "# Preços"
      ],
      "metadata": {
        "id": "LsLbcmyUpFSi"
      }
    },
    {
      "cell_type": "code",
      "source": [
        "dt_ini, dt_fim =  '2020-01-01','2024-08-01'\n",
        "df_precos = pd.DataFrame()\n",
        "df_precos = yf.download(tickers, dt_ini, dt_fim)['Close']"
      ],
      "metadata": {
        "id": "2mkHMPITp746"
      },
      "execution_count": null,
      "outputs": []
    },
    {
      "cell_type": "code",
      "source": [
        "#validacao\n",
        "serie = df_precos.isnull().sum()\n",
        "serie = serie[serie>0]\n",
        "ativos_nulos = list(serie.index)\n",
        "ativos_nulos"
      ],
      "metadata": {
        "id": "jtHcWU3jp-R9"
      },
      "execution_count": null,
      "outputs": []
    },
    {
      "cell_type": "markdown",
      "source": [
        "Foram buscados precos a partir de 2023 de modo que todos os ativos tivessem precos pois alguns ativos , como ALOS3 não tinham precos antes desta data"
      ],
      "metadata": {
        "id": "nufXH_scqHqu"
      }
    },
    {
      "cell_type": "code",
      "source": [
        "dt_ini, dt_fim =  '2023-01-01','2024-08-01'\n",
        "df_precos = pd.DataFrame()\n",
        "df_precos = yf.download(tickers, dt_ini, dt_fim)['Close']"
      ],
      "metadata": {
        "id": "21qGnax7qAqa"
      },
      "execution_count": null,
      "outputs": []
    }
  ]
}