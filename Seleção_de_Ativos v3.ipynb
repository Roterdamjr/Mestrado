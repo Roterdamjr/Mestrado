{
  "nbformat": 4,
  "nbformat_minor": 0,
  "metadata": {
    "colab": {
      "provenance": [],
      "toc_visible": true,
      "collapsed_sections": [
        "Duy5GBv9dAyR"
      ],
      "authorship_tag": "ABX9TyP1CkMsIgloGM84Dwa+Ysvv",
      "include_colab_link": true
    },
    "kernelspec": {
      "name": "python3",
      "display_name": "Python 3"
    },
    "language_info": {
      "name": "python"
    }
  },
  "cells": [
    {
      "cell_type": "markdown",
      "metadata": {
        "id": "view-in-github",
        "colab_type": "text"
      },
      "source": [
        "<a href=\"https://colab.research.google.com/github/Roterdamjr/Mestrado/blob/main/Sele%C3%A7%C3%A3o_de_Ativos%20v3.ipynb\" target=\"_parent\"><img src=\"https://colab.research.google.com/assets/colab-badge.svg\" alt=\"Open In Colab\"/></a>"
      ]
    },
    {
      "cell_type": "markdown",
      "source": [
        "# Biblioteca"
      ],
      "metadata": {
        "id": "lLT5-3npc4yK"
      }
    },
    {
      "cell_type": "code",
      "source": [
        "!pip install selenium webdriver-manager\n",
        "!apt-get update\n",
        "!apt-get install -y chromium-browser chromium-chromedriver"
      ],
      "metadata": {
        "id": "q1QD49ieuP4B"
      },
      "execution_count": null,
      "outputs": []
    },
    {
      "cell_type": "code",
      "source": [
        "import requests\n",
        "from bs4 import BeautifulSoup\n",
        "import pandas as pd\n",
        "import numpy as np\n",
        "import matplotlib.pyplot as plt\n",
        "import seaborn as sns\n",
        "import re\n",
        "\n",
        "def fn_formata_dados(df,colunas_prct):\n",
        "  # 1️⃣ Colunas numéricas comuns (não porcentagem)\n",
        "  for col in df.columns:\n",
        "      if col not in colunas_prct:\n",
        "          df[col] = (\n",
        "              df[col]\n",
        "              .astype(str)\n",
        "              .str.replace(\",\", \".\", regex=False)  # vírgula → ponto\n",
        "              .str.strip()                          # remove espaços extras\n",
        "          )\n",
        "          df[col] = pd.to_numeric(df[col], errors='coerce')\n",
        "\n",
        "  # 2️⃣ Colunas de porcentagem\n",
        "  for col in colunas_prct:\n",
        "      if col in df.columns:\n",
        "          df[col] = (\n",
        "              df[col]\n",
        "              .astype(str)\n",
        "              .str.replace(\"%\", \"\", regex=False)  # remove %\n",
        "              .str.replace(\",\", \".\", regex=False) # vírgula → ponto\n",
        "              .str.strip()\n",
        "          )\n",
        "          df[col] = pd.to_numeric(df[col], errors='coerce') / 100\n",
        "\n",
        "# **************  funcoes de webscrpping *******************\n",
        "def fn_le_indicadores_web(ativo):\n",
        "  print(\"Lendo \" + ativo)\n",
        "  url ='https://investidor10.com.br/acoes/' + ativo\n",
        "  headers = {\"User-Agent\": \"Mozilla/5.0\"}\n",
        "\n",
        "  response = requests.get(url, headers=headers)\n",
        "  soup = BeautifulSoup(response.text, \"html.parser\")\n",
        "\n",
        "  indicadores =  {\"Ativo\": ativo}\n",
        "\n",
        "  # Cada indicador está dentro de uma div com class \"cell\"\n",
        "  for cell in soup.find_all(\"div\", class_=\"cell\"):\n",
        "      nome_tag = cell.find(\"span\")  # nome do indicador (ROE, P/L, etc.)\n",
        "      valor_tag = cell.find(\"div\", class_=\"value\")\n",
        "\n",
        "      if nome_tag and valor_tag:\n",
        "          nome = nome_tag.get_text(strip=True).split(\" \")[0]\n",
        "          valor = valor_tag.find(\"span\").get_text(strip=True)\n",
        "          indicadores[nome] = valor\n",
        "\n",
        "  # Add Setor and Segmento\n",
        "  root = soup.select_one(\"#info_about\")\n",
        "  container = (root.select_one(\"#table-indicators-company\") if root else None) \\\n",
        "              or soup.select_one(\"#table-indicators-company\") \\\n",
        "              or soup  # fallback\n",
        "\n",
        "  kv = {}\n",
        "  for cell in container.select(\".cell\"):\n",
        "      t = cell.select_one(\".title\")\n",
        "      v = cell.select_one(\".value .simple-value\") or cell.select_one(\".value\")\n",
        "      if t and v:\n",
        "          kv[norm(t.get_text())] = norm(v.get_text(\" \"))\n",
        "\n",
        "  def pick(*alts):\n",
        "    # tenta direto, depois faz busca case-insensitive/prefixo\n",
        "    for a in alts:\n",
        "        if a in kv: return kv[a]\n",
        "    folded = {norm(k).casefold(): k for k in kv}\n",
        "    for a in alts:\n",
        "        key = norm(a).casefold()\n",
        "        if key in folded: return kv[folded[key]]\n",
        "        for fk, orig in folded.items():\n",
        "            if fk.startswith(key): return kv[orig]\n",
        "\n",
        "  indicadores[\"Setor\"] = pick(\"Setor\")\n",
        "  indicadores[\"Segmento\"] = pick(\"Segmento\")\n",
        "\n",
        "\n",
        "  # retorna dicionário com os indicadores\n",
        "  return indicadores\n",
        "\n",
        "def norm(s): return re.sub(r\"\\s+\", \" \", s).strip()\n",
        "\n",
        "# ************** fim  funcoes de webscrpping *******************\n",
        "\n",
        "def fn_altamente_correlacionados(p_matriz, p_cutoff):\n",
        "  altamente_correlacionados = set()\n",
        "\n",
        "  corr_matrix_abs = p_matriz.abs()\n",
        "  corr_matrix_upper_abs = p_matriz.where(np.triu(np.ones(p_matriz.shape), k=1).astype(bool))\n",
        "\n",
        "  while True:\n",
        "      # Find the highest correlation exceeding the cutoff\n",
        "      max_corr = corr_matrix_upper_abs.max().max()\n",
        "      if max_corr < p_cutoff:\n",
        "          break # No more correlations above cutoff\n",
        "\n",
        "      # Find the pair with this highest correlation\n",
        "      row_idx, col_idx = np.where(corr_matrix_upper_abs == max_corr)\n",
        "      # Get the actual column names (handle potential multiple pairs with same max corr)\n",
        "      col1 = corr_matrix_upper_abs.index[row_idx[0]]\n",
        "      col2 = corr_matrix_upper_abs.columns[col_idx[0]]\n",
        "\n",
        "      # Calculate mean absolute correlation for each column in the pair\n",
        "      mean_abs_corr1 = corr_matrix_abs[col1].mean()\n",
        "      mean_abs_corr2 = corr_matrix_abs[col2].mean()\n",
        "\n",
        "      # Add the column with the higher mean absolute correlation to the set to remove\n",
        "      if mean_abs_corr1 > mean_abs_corr2:\n",
        "          col_to_remove = col1\n",
        "      else:\n",
        "          col_to_remove = col2 # If equal, remove the second one\n",
        "\n",
        "      altamente_correlacionados.add(col_to_remove)\n",
        "\n",
        "      # Remove the flagged column from consideration by setting its correlations to 0\n",
        "      corr_matrix_upper_abs.loc[col_to_remove, :] = 0\n",
        "      corr_matrix_upper_abs.loc[:, col_to_remove] = 0\n",
        "\n",
        "  return altamente_correlacionados\n",
        "\n",
        "def fn_comparar_histogramas(p_todos,  p_tratados):\n",
        "  # exibem 2 histograma, uma antes e outro após a limpeza\n",
        "  fig, axes = plt.subplots(1, 2, figsize=(12, 5))\n",
        "  p_todos.hist(ax=axes[0])\n",
        "  p_tratados.hist(ax=axes[1])\n",
        "  plt.show()\n",
        "\n",
        "def tratar_outliers_IQR(series, fator=1.5):\n",
        "  # O fator funciona como uma “margem de tolerância” para o intervalo considerado normal:\n",
        "  # quanto maior o fator  mais valores serão considerados outliers.\n",
        "\n",
        "    Q1 = series.quantile(0.25)\n",
        "    Q3 = series.quantile(0.75)\n",
        "    IQR = Q3 - Q1\n",
        "\n",
        "    limite_inferior = Q1 - fator * IQR\n",
        "    limite_superior = Q3 + fator * IQR\n",
        "\n",
        "    # Winsorização\n",
        "    serie_tratada = series.clip(limite_inferior, limite_superior)\n",
        "\n",
        "    # tratar ativos que não possuem alguns indicadores, substituindo pela mediana\n",
        "    # ev_ebitda : 'BBSE3', 'BBDC3', 'BBDC4', 'BBAS3', 'BPAC11', 'CXSE3', 'IRBR3', 'ITUB4',   'SANB11'\n",
        "    # div_brt_patr: 'BBDC3', 'BBDC4', 'BBAS3', 'BPAC11', 'ITUB4', 'SANB11'\n",
        "    # cagr : 'AURE3', 'RAIZ4', 'SMFT3'\n",
        "    mediana = serie_tratada.median()\n",
        "    serie_tratada = serie_tratada.fillna(mediana)\n",
        "\n",
        "    return serie_tratada\n",
        "\n",
        "def normalizar_coluna(serie, is_melhor_maior=True):\n",
        "    min_val,max_val = serie.min(), serie.max()\n",
        "\n",
        "    if min_val == max_val: # Evita divisão por zero se todos os valores forem iguais\n",
        "        return pd.Series(0.5, index=serie.index)\n",
        "\n",
        "    if is_melhor_maior:\n",
        "        return (serie - min_val) / (max_val - min_val)\n",
        "    else:\n",
        "        return (max_val - serie) / (max_val - min_val)"
      ],
      "metadata": {
        "id": "zaHd5kFK1e_h"
      },
      "execution_count": 2,
      "outputs": []
    },
    {
      "cell_type": "markdown",
      "source": [
        "# Download de Indicadores"
      ],
      "metadata": {
        "id": "Duy5GBv9dAyR"
      }
    },
    {
      "cell_type": "markdown",
      "source": [
        "Serão utilizados somente os ativos que compões o IBOVESPA de modo a garantir liquidez. Fonte: https://www.b3.com.br/pt_br/market-data-e-indices/indices/indices-amplos/indice-ibovespa-ibovespa-composicao-da-carteira.htm\n",
        "\n",
        "Serão filtrados ativos descorrelacionados\n",
        "\n",
        "Serão utilizados dados fundamentalista para filtragem: Maiores lucros, ROE ou margens financeirassua liquidez"
      ],
      "metadata": {
        "id": "HZG7RtLP1GIj"
      }
    },
    {
      "cell_type": "code",
      "source": [
        "ativos_ibov = [\"ALOS3\", \"ABEV3\", \"ASAI3\", \"AURE3\", \"AZZA3\", \"B3SA3\", \"BBSE3\", \"BBDC3\",\n",
        "    \"BBDC4\", \"BRAP4\", \"BBAS3\", \"BRKM5\", \"BRAV3\", \"BRFS3\", \"BPAC11\", \"CXSE3\",\n",
        "    \"CMIG4\", \"COGN3\", \"CPLE6\", \"CSAN3\", \"CPFE3\", \"CMIN3\", \"CVCB3\", \"CYRE3\",\n",
        "    \"DIRR3\", \"ELET3\", \"ELET6\", \"EMBR3\", \"ENGI11\", \"ENEV3\", \"EGIE3\", \"EQTL3\",\n",
        "    \"FLRY3\", \"GGBR4\", \"GOAU4\", \"HAPV3\", \"HYPE3\", \"IGTI11\", \"IRBR3\", \"ISAE4\",\n",
        "    \"ITSA4\", \"ITUB4\", \"KLBN11\", \"RENT3\", \"LREN3\", \"MGLU3\", \"POMO4\", \"MRFG3\",\n",
        "    \"BEEF3\",  \"MRVE3\", \"MULT3\", \"NTCO3\", \"PCAR3\", \"PETR3\", \"PETR4\",\n",
        "    \"RECV3\", \"PRIO3\", \"PETZ3\", \"PSSA3\", \"RADL3\", \"RAIZ4\", \"RDOR3\", \"RAIL3\",\n",
        "    \"SBSP3\", \"SANB11\", \"STBP3\", \"SMTO3\", \"CSNA3\", \"SLCE3\", \"SMFT3\", \"SUZB3\",\n",
        "    \"TAEE11\", \"VIVT3\", \"TIMS3\", \"TOTS3\", \"UGPA3\", \"USIM5\", \"VALE3\", \"VAMO3\",\n",
        "    \"VBBR3\", \"VIVA3\", \"WEGE3\", \"YDUQ3\"]\n",
        "\n",
        "linhas = [fn_le_indicadores_web(ativo) for ativo in ativos_ibov]\n",
        "\n",
        "df_ind_fund = pd.DataFrame(linhas)\n",
        "df_ind_fund.to_csv('ind_fundamentalistas.csv', index=False)"
      ],
      "metadata": {
        "id": "wOav8sGoglDd"
      },
      "execution_count": null,
      "outputs": []
    },
    {
      "cell_type": "markdown",
      "source": [
        "# Filtragem de indicadores"
      ],
      "metadata": {
        "id": "LschTmdYdO-G"
      }
    },
    {
      "cell_type": "code",
      "source": [
        "df_ind_fund_raw = pd.read_csv('ind_fundamentalistas.csv')\n",
        "df_ind_fund_raw.set_index('Ativo' , inplace=True)\n",
        "df_setor_ativos = df_ind_fund_raw[['Setor', 'Segmento']].copy()\n",
        "\n",
        "# retira colunas não numericas pra trabalhar a correlação\n",
        "df_ind_fund_raw.drop(columns=['Setor', 'Segmento'], inplace=True)\n",
        "fn_formata_dados(df_ind_fund_raw, ['DIVIDEND','PAYOUT', 'MARGEM', 'ROE','ROIC','ROA', 'CAGR'])"
      ],
      "metadata": {
        "id": "FZKUbll4ygRw"
      },
      "execution_count": 3,
      "outputs": []
    },
    {
      "cell_type": "markdown",
      "source": [
        "indicadores extraídos: 'P/L', 'P/RECEITA', 'P/VP', 'DIVIDEND', 'PAYOUT', 'MARGEM', 'EV/EBITDA',\n",
        "       'EV/EBIT', 'P/EBITDA', 'P/EBIT', 'P/ATIVO', 'P/CAP.GIRO', 'VPA', 'LPA',\n",
        "       'GIRO', 'ROE', 'ROIC', 'ROA', 'DÍVIDA', 'PATRIMÔNIO', 'PASSIVOS',\n",
        "       'LIQUIDEZ', 'CAGR'"
      ],
      "metadata": {
        "id": "YwlamrNgFFXY"
      }
    },
    {
      "cell_type": "markdown",
      "source": [
        "A cada par de indicadores  que possuem correlação maior que 0.8 é excluído aqule  que tem maior correlação com os demais indicadores.\n",
        "\n",
        "São eles: 'P/EBITDA', 'P/RECEITA', 'PATRIMÔNIO'"
      ],
      "metadata": {
        "id": "xIHeQL-VxxaO"
      }
    },
    {
      "cell_type": "code",
      "source": [
        "mat_corr_raw = df_ind_fund_raw.corr()\n",
        "'''\n",
        "plt.figure(figsize=(12,10))\n",
        "sns.heatmap(mat_corr_raw, annot=True, fmt=\".2f\", cmap=\"coolwarm\")\n",
        "plt.show()\n",
        "'''\n",
        "df_ind_fund = df_ind_fund_raw.drop(columns = fn_altamente_correlacionados(mat_corr_raw, 0.8))\n",
        "'''\n",
        "mat_corr = df_ind_fund.corr()\n",
        "plt.figure(figsize=(12,10))\n",
        "sns.heatmap(mat_corr, annot=True, fmt=\".2f\", cmap=\"coolwarm\")\n",
        "plt.show()\n",
        "'''\n"
      ],
      "metadata": {
        "colab": {
          "base_uri": "https://localhost:8080/",
          "height": 36
        },
        "id": "xut5cpwA0oJA",
        "outputId": "ae032e02-80b8-42bb-ffae-ef127a0f209a"
      },
      "execution_count": 4,
      "outputs": [
        {
          "output_type": "execute_result",
          "data": {
            "text/plain": [
              "'\\nmat_corr = df_ind_fund.corr()\\nplt.figure(figsize=(12,10))\\nsns.heatmap(mat_corr, annot=True, fmt=\".2f\", cmap=\"coolwarm\")\\nplt.show()\\n'"
            ],
            "application/vnd.google.colaboratory.intrinsic+json": {
              "type": "string"
            }
          },
          "metadata": {},
          "execution_count": 4
        }
      ]
    },
    {
      "cell_type": "markdown",
      "source": [
        "Analisar:\n",
        "\n",
        " 'P/L', 'P/VP', 'DIVIDEND', 'PAYOUT', 'MARGEM', 'EV/EBITDA', 'EV/EBIT',\n",
        "       'P/EBIT', 'P/ATIVO', 'P/CAP.GIRO', 'VPA', 'LPA', 'GIRO', 'ROE', 'ROIC',\n",
        "       'ROA', 'DÍVIDA', 'PATRIMÔNIO', 'PASSIVOS', 'LIQUIDEZ', 'CAGR'\n",
        "\n",
        "Não foi considerado :DIVIDEND,PAYOUT  "
      ],
      "metadata": {
        "id": "xVgB84hGFFxm"
      }
    },
    {
      "cell_type": "markdown",
      "source": [
        "De forma aidentificar outliers poderia usar o Método do Z-score ou Método do Intervalo Interquartil (mais robusta para dados que não seguem uma distribuição norma).\n",
        "\n",
        "E para tratamento pode ser usado a simples remoção ou a Winsorization.\n",
        "\n",
        "Foi escolhido Método do Intervalo Interquartil com Winsorization, pois evita a exclusão de um ativo que pode ser importante por outros motivos. Foi utilizado o fator 1.5 para ouliers moderados, porém percebe-se que a sua modulação não altera de forma siginificativa a carteira."
      ],
      "metadata": {
        "id": "uXbDyyzBX1Qc"
      }
    },
    {
      "cell_type": "code",
      "source": [
        "# APLICAR INTERVALO INTERQUATIL E WINSORIZATION\n",
        "indice = {\n",
        "    'pl': tratar_outliers_IQR(df_ind_fund['P/L']),\n",
        "    'p_vp': tratar_outliers_IQR(df_ind_fund['P/VP']),\n",
        "    'margem_ebitda': tratar_outliers_IQR(df_ind_fund['MARGEM']),\n",
        "    'ev_ebitda': tratar_outliers_IQR(df_ind_fund['EV/EBITDA']),\n",
        "    'ev_ebit': tratar_outliers_IQR(df_ind_fund['EV/EBIT']),\n",
        "    'p_ebit': tratar_outliers_IQR(df_ind_fund['P/EBIT']),\n",
        "    'preco_ativo_circ': tratar_outliers_IQR(df_ind_fund['P/ATIVO']),\n",
        "    'preco_cap_giro': tratar_outliers_IQR(df_ind_fund['P/CAP.GIRO']),\n",
        "    'vpa': tratar_outliers_IQR(df_ind_fund['VPA']),\n",
        "    'lpa': tratar_outliers_IQR(df_ind_fund['LPA']),\n",
        "    'giro': tratar_outliers_IQR(df_ind_fund['GIRO']),\n",
        "    'roe': tratar_outliers_IQR(df_ind_fund['ROE']),\n",
        "    'roic': tratar_outliers_IQR(df_ind_fund['ROIC']),\n",
        "    'roa': tratar_outliers_IQR(df_ind_fund['ROA']),\n",
        "    'div_brt_patr': tratar_outliers_IQR(df_ind_fund['DÍVIDA']),\n",
        "    'pat_liq_ativ': tratar_outliers_IQR(df_ind_fund['PATRIMÔNIO']),\n",
        "    'passivo_ativos': tratar_outliers_IQR(df_ind_fund['PASSIVOS']),\n",
        "    'liquidez': tratar_outliers_IQR(df_ind_fund['LIQUIDEZ']),\n",
        "    'cagr_lucros': tratar_outliers_IQR(df_ind_fund['CAGR'])\n",
        "}\n",
        "\n",
        "df_tratados = pd.DataFrame(indice)\n",
        "\n",
        "# ATRIBUIR PESOS E NORMALIZAR INDICADORES\n",
        "    # As colunas VPA, LPA, GIRO e PASSIVOS não serão usadas na pontuação,\n",
        "    # pois sua informação já está contida em outros indicadores.\n",
        "\n",
        "pesos = {\n",
        "      'roe': 0.10,\n",
        "      'roic': 0.10,\n",
        "      'roa': 0.05,\n",
        "      'margem_ebitda': 0.05,\n",
        "      'cagr_lucros': 0.20,\n",
        "      'pl': 0.06,\n",
        "      'ev_ebitda': 0.06,\n",
        "      'ev_ebit': 0.06,\n",
        "      'p_vp': 0.03,\n",
        "      'preco_ativo_circ': 0.03,\n",
        "      'p_ebit': 0.03,\n",
        "      'preco_cap_giro': 0.03,\n",
        "      'div_brt_patr': 0.10,\n",
        "      'pat_liq_ativ': 0.05,\n",
        "      'liquidez': 0.05,\n",
        "}\n",
        "\n",
        "df_normalizado = pd.DataFrame(index=df_tratados.index)\n",
        "\n",
        "is_melhor_maior = {\n",
        "    'margem_ebitda': True,\n",
        "    'roe': True,\n",
        "    'roic': True,\n",
        "    'roa': True,\n",
        "    'liquidez': True,\n",
        "    'cagr_lucros': True,\n",
        "    'pat_liq_ativ': True,\n",
        "    'pl': False,\n",
        "    'p_vp': False,\n",
        "    'ev_ebitda': False,\n",
        "    'ev_ebit': False,\n",
        "    'p_ebit': False,\n",
        "    'preco_ativo_circ': False,\n",
        "    'preco_cap_giro': False,\n",
        "    'div_brt_patr': False\n",
        "}\n",
        "\n",
        "for col, peso in pesos.items():\n",
        "    if col in df_tratados.columns:\n",
        "        df_normalizado[col] =  normalizar_coluna(df_tratados[col], is_melhor_maior[col])\n",
        "    else:\n",
        "        print(f\"Atenção: A coluna '{col}' não foi encontrada no dataframe original e será ignorada.\")\n",
        "\n",
        "df_normalizado['SCORE_FINAL'] = 0\n",
        "for col, peso in pesos.items():\n",
        "    if col in df_normalizado.columns:\n",
        "        df_normalizado['SCORE_FINAL'] += df_normalizado[col] * peso\n",
        "\n",
        "df_normalizado = df_normalizado.round(3)\n",
        "\n",
        "# retorna Setor e Segmento pra o Dataframe\n",
        "df_normalizado = pd.merge(\n",
        "    df_normalizado,\n",
        "    df_setor_ativos,\n",
        "    on='Ativo',\n",
        "    how='left'\n",
        ")\n",
        "df_normalizado.sort_values(by='SCORE_FINAL', ascending=False)\n",
        "\n",
        "# Obtém os ativos de melhor score em cada Setor\n",
        "# A diversificação de setores diminui o risco da carteira\n",
        "df_carteira = df_normalizado.groupby('Setor')['SCORE_FINAL'].idxmax()\n",
        "\n",
        "df_normalizado.to_csv('indicadores_normalizados.csv', index=True)"
      ],
      "metadata": {
        "id": "XgN9fmg4INNn"
      },
      "execution_count": 7,
      "outputs": []
    },
    {
      "cell_type": "code",
      "source": [
        "df_carteira"
      ],
      "metadata": {
        "colab": {
          "base_uri": "https://localhost:8080/",
          "height": 429
        },
        "id": "whcTJJRcxSBT",
        "outputId": "452142c8-bebc-4b81-e52e-2a4700d37e52"
      },
      "execution_count": 8,
      "outputs": [
        {
          "output_type": "execute_result",
          "data": {
            "text/plain": [
              "Setor\n",
              "Bens Industriais                   POMO4\n",
              "Consumo Cíclico                    VIVA3\n",
              "Consumo não Cíclico                BRFS3\n",
              "Financeiro                         BBSE3\n",
              "Materiais Básicos                  GOAU4\n",
              "Petróleo, Gás e Biocombustíveis    PETR4\n",
              "Saúde                              RDOR3\n",
              "Tecnologia da Informação           TOTS3\n",
              "Telecomunicações                   TIMS3\n",
              "Utilidade Pública                  SBSP3\n",
              "Name: SCORE_FINAL, dtype: object"
            ],
            "text/html": [
              "<div>\n",
              "<style scoped>\n",
              "    .dataframe tbody tr th:only-of-type {\n",
              "        vertical-align: middle;\n",
              "    }\n",
              "\n",
              "    .dataframe tbody tr th {\n",
              "        vertical-align: top;\n",
              "    }\n",
              "\n",
              "    .dataframe thead th {\n",
              "        text-align: right;\n",
              "    }\n",
              "</style>\n",
              "<table border=\"1\" class=\"dataframe\">\n",
              "  <thead>\n",
              "    <tr style=\"text-align: right;\">\n",
              "      <th></th>\n",
              "      <th>SCORE_FINAL</th>\n",
              "    </tr>\n",
              "    <tr>\n",
              "      <th>Setor</th>\n",
              "      <th></th>\n",
              "    </tr>\n",
              "  </thead>\n",
              "  <tbody>\n",
              "    <tr>\n",
              "      <th>Bens Industriais</th>\n",
              "      <td>POMO4</td>\n",
              "    </tr>\n",
              "    <tr>\n",
              "      <th>Consumo Cíclico</th>\n",
              "      <td>VIVA3</td>\n",
              "    </tr>\n",
              "    <tr>\n",
              "      <th>Consumo não Cíclico</th>\n",
              "      <td>BRFS3</td>\n",
              "    </tr>\n",
              "    <tr>\n",
              "      <th>Financeiro</th>\n",
              "      <td>BBSE3</td>\n",
              "    </tr>\n",
              "    <tr>\n",
              "      <th>Materiais Básicos</th>\n",
              "      <td>GOAU4</td>\n",
              "    </tr>\n",
              "    <tr>\n",
              "      <th>Petróleo, Gás e Biocombustíveis</th>\n",
              "      <td>PETR4</td>\n",
              "    </tr>\n",
              "    <tr>\n",
              "      <th>Saúde</th>\n",
              "      <td>RDOR3</td>\n",
              "    </tr>\n",
              "    <tr>\n",
              "      <th>Tecnologia da Informação</th>\n",
              "      <td>TOTS3</td>\n",
              "    </tr>\n",
              "    <tr>\n",
              "      <th>Telecomunicações</th>\n",
              "      <td>TIMS3</td>\n",
              "    </tr>\n",
              "    <tr>\n",
              "      <th>Utilidade Pública</th>\n",
              "      <td>SBSP3</td>\n",
              "    </tr>\n",
              "  </tbody>\n",
              "</table>\n",
              "</div><br><label><b>dtype:</b> object</label>"
            ]
          },
          "metadata": {},
          "execution_count": 8
        }
      ]
    },
    {
      "cell_type": "markdown",
      "source": [
        "# Preços"
      ],
      "metadata": {
        "id": "LsLbcmyUpFSi"
      }
    },
    {
      "cell_type": "code",
      "source": [
        "dt_ini, dt_fim =  '2020-01-01','2024-08-01'\n",
        "df_precos = pd.DataFrame()\n",
        "df_precos = yf.download(tickers, dt_ini, dt_fim)['Close']"
      ],
      "metadata": {
        "id": "2mkHMPITp746"
      },
      "execution_count": null,
      "outputs": []
    },
    {
      "cell_type": "code",
      "source": [
        "#validacao\n",
        "serie = df_precos.isnull().sum()\n",
        "serie = serie[serie>0]\n",
        "ativos_nulos = list(serie.index)\n",
        "ativos_nulos"
      ],
      "metadata": {
        "id": "jtHcWU3jp-R9"
      },
      "execution_count": null,
      "outputs": []
    },
    {
      "cell_type": "markdown",
      "source": [
        "Foram buscados precos a partir de 2023 de modo que todos os ativos tivessem precos pois alguns ativos , como ALOS3 não tinham precos antes desta data"
      ],
      "metadata": {
        "id": "nufXH_scqHqu"
      }
    },
    {
      "cell_type": "code",
      "source": [
        "dt_ini, dt_fim =  '2023-01-01','2024-08-01'\n",
        "df_precos = pd.DataFrame()\n",
        "df_precos = yf.download(tickers, dt_ini, dt_fim)['Close']"
      ],
      "metadata": {
        "id": "21qGnax7qAqa"
      },
      "execution_count": null,
      "outputs": []
    }
  ]
}